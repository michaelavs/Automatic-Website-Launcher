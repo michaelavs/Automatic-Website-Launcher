{
 "cells": [
  {
   "cell_type": "markdown",
   "metadata": {},
   "source": [
    "## This code is designed to run on a specified interval to open a web page ##"
   ]
  },
  {
   "cell_type": "markdown",
   "metadata": {},
   "source": [
    "The code will take a specified webpage and time interval and open the web page at each time interval. The inspiration for this project was to make supporting the BLM movement via donations easier and more profitable. The ad revenue generated from the youtube video used in this code is donated directly to various BLM supporting organizations and offers a free way for supporters to contribute monetarily to the movement. "
   ]
  },
  {
   "cell_type": "code",
   "execution_count": null,
   "metadata": {},
   "outputs": [],
   "source": [
    "import schedule #This package is downloaded via \"pip install schedule\" in the terminal\n",
    "import time\n",
    "import webbrowser"
   ]
  },
  {
   "cell_type": "code",
   "execution_count": null,
   "metadata": {},
   "outputs": [],
   "source": [
    "def job():\n",
    "    webbrowser.open('https://www.youtube.com/watch?v=NokTSpMH44A')\n",
    "\n",
    "#Determine the interval necessary to open the link and uncomment that line\n",
    "#I chose every 18 minutes because this video is 18 minutes long.\n",
    "\n",
    "#schedule.every(10).seconds.do(job)\n",
    "schedule.every(18).minutes.do(job)\n",
    "#schedule.every().hour.do(job)\n",
    "\n",
    "#It is also possible to schedule when the code should run so you can set it and forget it \n",
    "#schedule.every().day.at(\"10:30\").do(job)\n",
    "\n",
    "while 1:\n",
    "    schedule.run_pending()\n",
    "    time.sleep(1)"
   ]
  }
 ],
 "metadata": {
  "kernelspec": {
   "display_name": "Python 3",
   "language": "python",
   "name": "python3"
  },
  "language_info": {
   "codemirror_mode": {
    "name": "ipython",
    "version": 3
   },
   "file_extension": ".py",
   "mimetype": "text/x-python",
   "name": "python",
   "nbconvert_exporter": "python",
   "pygments_lexer": "ipython3",
   "version": "3.7.6"
  }
 },
 "nbformat": 4,
 "nbformat_minor": 4
}
